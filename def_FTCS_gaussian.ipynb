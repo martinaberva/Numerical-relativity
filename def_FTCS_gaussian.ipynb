{
 "cells": [
  {
   "cell_type": "markdown",
   "metadata": {},
   "source": [
    "# Advection Equation\n",
    "\n",
    "Here we solve the advection equation $\\partial_t u + a \\partial_x u=0$ using as an initial condition a gaussian profile $u(x,t=0)=\\exp{[-(x-x_0)^2]}$ with $x_0=5$.\n",
    "\n",
    "We use a domain $x\\in [0,10]$ with periodic boundary conditions."
   ]
  },
  {
   "cell_type": "code",
   "execution_count": 1,
   "metadata": {},
   "outputs": [
    {
     "name": "stdout",
     "output_type": "stream",
     "text": [
      "nx= 101\n",
      "dx= 0.1\n",
      "dt= 0.05\n",
      "Number of iterations= 400.0\n"
     ]
    }
   ],
   "source": [
    "import numpy as np\n",
    "\n",
    "#define the speed a\n",
    "a=1.0\n",
    "\n",
    "# Define the domain\n",
    "L = 10.0     # Domain length\n",
    "nx = 101    # Number of grid points\n",
    "dx = L/(nx-1)   # Grid spacing\n",
    "x = np.linspace(0, L, nx)\n",
    "\n",
    "##print(x,'\\n',dx) #just a check\n",
    "\n",
    "# Define the time step and the final time\n",
    "cf = 0.5\n",
    "dt = cf*dx/a   # Time step\n",
    "t_final = 20.0\n",
    "\n",
    "print('nx=',nx)\n",
    "print('dx=',dx)\n",
    "print('dt=',dt)\n",
    "print('Number of iterations=',t_final/dt)\n",
    "\n",
    "\n",
    "# Define the initial condition\n",
    "x0=5\n",
    "u_initial = np.exp(-(x-x0)**2)\n",
    "\n",
    "# Initialize the solution array\n",
    "u_current = u_initial.copy()\n",
    "\n",
    "#we create arrays where we will store the time and the l2norm\n",
    "l2norm=[]\n",
    "l2norm.append(np.sqrt(np.sum(u_current**2)/len(u_current)))\n",
    "\n",
    "time=[]\n",
    "time.append(0.0)"
   ]
  },
  {
   "cell_type": "code",
   "execution_count": 2,
   "metadata": {},
   "outputs": [
    {
     "name": "stdout",
     "output_type": "stream",
     "text": [
      "c:\\Users\\marti\\Desktop\\University\\Numerical relativity\n"
     ]
    },
    {
     "data": {
      "text/plain": [
       "['Another_copy_of_Advection_Equation.ipynb',\n",
       " 'def_FTCS_gaussian.ipynb',\n",
       " 'def_LaxFriedrichs_gaussian.ipynb',\n",
       " 'def_LaxFriedrichs_step.ipynb',\n",
       " 'def_LaxWendroff_gaussian.ipynb',\n",
       " 'def_LaxWendroff_gaussian_outflowconditions.ipynb',\n",
       " 'def_LaxWendroff_step.ipynb',\n",
       " 'def_Leapfrog_gaussian.ipynb',\n",
       " 'def_Leapfrog_gaussian_analytic.ipynb',\n",
       " 'def_Leapfrog_gaussian_outflowconditions.ipynb',\n",
       " 'def_upwind_gaussian.ipynb',\n",
       " 'FTCS_gaussian',\n",
       " 'l2norm_FTCS.dat',\n",
       " 'l2norm_LAX.dat',\n",
       " 'l2norm_LAXWENDROFF.dat',\n",
       " 'l2norm_LEAPFROG.dat',\n",
       " 'Lax',\n",
       " 'LaxFriedrichs_gaussian',\n",
       " 'LaxFriedrichs_step',\n",
       " 'LaxWendroff_Advection_Equation.ipynb',\n",
       " 'LaxWendroff_Advection_Equation_conditions.ipynb',\n",
       " 'LaxWendroff_gaussian',\n",
       " 'LaxWendroff_gaussian_outflowconditions',\n",
       " 'LaxWendroff_step',\n",
       " 'Lax_Advection_Equation.ipynb',\n",
       " 'Leap',\n",
       " 'LeapWendroff_Advection_Equation.ipynb',\n",
       " 'Leap_Advection_Equation.ipynb',\n",
       " 'Leap_gaussian',\n",
       " 'Leap_gaussian_analytic',\n",
       " 'Leap_gaussian_outflowconditions',\n",
       " 'movie.mp4',\n",
       " 'movie_FTCS.mp4',\n",
       " 'movie_LaxFriedrichs.mp4',\n",
       " 'movie_LaxFriedrichs_step.mp4',\n",
       " 'movie_LaxWendroff.mp4',\n",
       " 'movie_LaxWendroff_outflowconditions.mp4',\n",
       " 'movie_LaxWendroff_step.mp4',\n",
       " 'movie_Leap.mp4',\n",
       " 'movie_Leap_outflowconditions.mp4',\n",
       " 'movie_upwind.mp4',\n",
       " 'movie_upwind_non.mp4',\n",
       " 'upwind_gaussian',\n",
       " 'upwind_gaussian_non']"
      ]
     },
     "execution_count": 2,
     "metadata": {},
     "output_type": "execute_result"
    }
   ],
   "source": [
    "import matplotlib.pyplot as plt\n",
    "import os\n",
    "##create directory where to save images\n",
    "print(os.getcwd())\n",
    "\n",
    "#os.makedirs('./FTCS_gaussian')\n",
    "\n",
    "os.listdir('./')"
   ]
  },
  {
   "cell_type": "code",
   "execution_count": 3,
   "metadata": {},
   "outputs": [],
   "source": [
    "# Initilize time and iteration counter\n",
    "t = 0.0\n",
    "i = 0\n",
    "\n",
    "#save the initial conditions\n",
    "plt.plot(x, u_current)\n",
    "plt.title('Time='+str(round(t,2)))\n",
    "plt.ylim(0,1.1)\n",
    "plt.savefig('./FTCS_gaussian/fig_'+str(i).zfill(5)+'.png', dpi=200)\n",
    "plt.close()\n",
    "\n",
    "#solve the advection equation\n",
    "while t < t_final:\n",
    "    # Compute the new solution using the FTCS method\n",
    "    # Note: np.roll(u_current, -1) is equivalent to u(j+1) and\n",
    "    #       np.roll(u_current,  1) is equivalent to u(j-1)\n",
    "    # using np.roll is equivalent to use periodic boundary conditions\n",
    "    u_next = u_current - a*dt/(2*dx)*(np.roll(u_current, -1) - np.roll(u_current, 1))    \n",
    "    \n",
    "    # Update the solution\n",
    "    u_current = u_next.copy()\n",
    "    \n",
    "    \n",
    "    #advance the time \n",
    "    t += dt\n",
    "    i += 1\n",
    "    \n",
    "    #compute the l2 norm and add the time to the time vector\n",
    "    l2norm.append(np.sqrt(np.sum(u_current**2)/len(u_current)))\n",
    "    time.append(t)\n",
    "    \n",
    "    #plot the current result and save in an image every 10 iterations\n",
    "    if (i%10==0):\n",
    "        plt.plot(x, u_current)\n",
    "        plt.title('Time='+str(round(t,2)))\n",
    "        plt.ylim(0,1.1)\n",
    "        plt.savefig('./FTCS_gaussian/fig_'+str(i).zfill(5)+'.png', dpi=200)\n",
    "        plt.close()"
   ]
  },
  {
   "cell_type": "code",
   "execution_count": 4,
   "metadata": {},
   "outputs": [
    {
     "data": {
      "image/png": "[encoded data removed]",
      "text/plain": [
       "<Figure size 640x480 with 1 Axes>"
      ]
     },
     "metadata": {},
     "output_type": "display_data"
    }
   ],
   "source": [
    "# Plot the final solution\n",
    "plt.plot(x, u_initial, label='Initial')\n",
    "plt.plot(x, u_current, label='Final')\n",
    "plt.title('FTCS')\n",
    "plt.ylim(-0.01,1.1)\n",
    "plt.xlabel('x')\n",
    "plt.ylabel('u(x)')\n",
    "plt.legend()\n",
    "plt.show()"
   ]
  },
  {
   "cell_type": "code",
   "execution_count": 5,
   "metadata": {},
   "outputs": [
    {
     "name": "stdout",
     "output_type": "stream",
     "text": [
      "['fig_00000.png', 'fig_00010.png', 'fig_00020.png', 'fig_00030.png', 'fig_00040.png', 'fig_00050.png', 'fig_00060.png', 'fig_00070.png', 'fig_00080.png', 'fig_00090.png', 'fig_00100.png', 'fig_00110.png', 'fig_00120.png', 'fig_00130.png', 'fig_00140.png', 'fig_00150.png', 'fig_00160.png', 'fig_00170.png', 'fig_00180.png', 'fig_00190.png', 'fig_00200.png', 'fig_00210.png', 'fig_00220.png', 'fig_00230.png', 'fig_00240.png', 'fig_00250.png', 'fig_00260.png', 'fig_00270.png', 'fig_00280.png', 'fig_00290.png', 'fig_00300.png', 'fig_00310.png', 'fig_00320.png', 'fig_00330.png', 'fig_00340.png', 'fig_00350.png', 'fig_00360.png', 'fig_00370.png', 'fig_00380.png', 'fig_00390.png', 'fig_00400.png'] \n",
      "\n",
      "['fig_00000.png', 'fig_00010.png', 'fig_00020.png', 'fig_00030.png', 'fig_00040.png', 'fig_00050.png', 'fig_00060.png', 'fig_00070.png', 'fig_00080.png', 'fig_00090.png', 'fig_00100.png', 'fig_00110.png', 'fig_00120.png', 'fig_00130.png', 'fig_00140.png', 'fig_00150.png', 'fig_00160.png', 'fig_00170.png', 'fig_00180.png', 'fig_00190.png', 'fig_00200.png', 'fig_00210.png', 'fig_00220.png', 'fig_00230.png', 'fig_00240.png', 'fig_00250.png', 'fig_00260.png', 'fig_00270.png', 'fig_00280.png', 'fig_00290.png', 'fig_00300.png', 'fig_00310.png', 'fig_00320.png', 'fig_00330.png', 'fig_00340.png', 'fig_00350.png', 'fig_00360.png', 'fig_00370.png', 'fig_00380.png', 'fig_00390.png', 'fig_00400.png']\n"
     ]
    }
   ],
   "source": [
    "# set the directory where your images are stored\n",
    "directory = \"./FTCS_gaussian/\"\n",
    "\n",
    "# get the list of image files in the directory\n",
    "files = os.listdir(directory)\n",
    "\n",
    "print(files, '\\n')\n",
    "\n",
    "# sort the files in alphanumeric order\n",
    "files=sorted(files)\n",
    "\n",
    "print(files)"
   ]
  },
  {
   "cell_type": "code",
   "execution_count": 6,
   "metadata": {},
   "outputs": [
    {
     "name": "stdout",
     "output_type": "stream",
     "text": [
      "Requirement already satisfied: imageio[ffmpeg] in c:\\users\\marti\\anaconda3\\lib\\site-packages (2.33.1)\n",
      "Requirement already satisfied: numpy in c:\\users\\marti\\anaconda3\\lib\\site-packages (from imageio[ffmpeg]) (1.26.4)\n",
      "Requirement already satisfied: pillow>=8.3.2 in c:\\users\\marti\\anaconda3\\lib\\site-packages (from imageio[ffmpeg]) (10.4.0)\n",
      "Requirement already satisfied: imageio-ffmpeg in c:\\users\\marti\\anaconda3\\lib\\site-packages (from imageio[ffmpeg]) (0.6.0)\n",
      "Requirement already satisfied: psutil in c:\\users\\marti\\anaconda3\\lib\\site-packages (from imageio[ffmpeg]) (5.9.0)\n",
      "Note: you may need to restart the kernel to use updated packages.\n"
     ]
    }
   ],
   "source": [
    "%pip install imageio[ffmpeg]\n",
    "import imageio.v2 as imageio\n",
    "import glob\n",
    "images_files = sorted(glob.glob('./FTCS_gaussian/fig_*.png'))\n",
    "output_path = os.path.abspath('./movie_FTCS.mp4')\n",
    "\n",
    "with imageio.get_writer(output_path, fps=20, codec='libx264') as writer:\n",
    "    for file in images_files:\n",
    "        image = imageio.imread(file)\n",
    "        writer.append_data(image)\n",
    "        \n"
   ]
  },
  {
   "cell_type": "code",
   "execution_count": 7,
   "metadata": {},
   "outputs": [
    {
     "data": {
      "text/html": [
       "\n",
       "<div align=\"middle\">\n",
       "<video width=\"80%\" controls>\n",
       "      <source src=\"./movie_FTCS.mp4\" type=\"video/mp4\">\n",
       "</video></div>"
      ],
      "text/plain": [
       "<IPython.core.display.HTML object>"
      ]
     },
     "execution_count": 7,
     "metadata": {},
     "output_type": "execute_result"
    }
   ],
   "source": [
    "# don't worry about the code in this cell, it is just to let you \n",
    "# display the movies you generated above in Jupyter notebook\n",
    "\n",
    "from IPython.display import HTML\n",
    "\n",
    "HTML(\"\"\"\n",
    "<div align=\"middle\">\n",
    "<video width=\"80%\" controls>\n",
    "      <source src=\"./movie_FTCS.mp4\" type=\"video/mp4\">\n",
    "</video></div>\"\"\")"
   ]
  },
  {
   "cell_type": "code",
   "execution_count": 8,
   "metadata": {},
   "outputs": [
    {
     "data": {
      "image/png": "[encoded data removed]",
      "text/plain": [
       "<Figure size 640x480 with 1 Axes>"
      ]
     },
     "metadata": {},
     "output_type": "display_data"
    }
   ],
   "source": [
    "plt.plot(time,l2norm)\n",
    "plt.title('FTCS - L2 norm')\n",
    "plt.xlabel('Time')\n",
    "plt.ylabel('L2 norm')\n",
    "plt.show()"
   ]
  },
  {
   "cell_type": "code",
   "execution_count": 9,
   "metadata": {},
   "outputs": [
    {
     "data": {
      "image/png": "[encoded data removed]",
      "text/plain": [
       "<Figure size 640x480 with 1 Axes>"
      ]
     },
     "metadata": {},
     "output_type": "display_data"
    }
   ],
   "source": [
    "#Compare with data stored\n",
    "l2_saved=np.genfromtxt('./l2norm_FTCS.dat', comments='#')\n",
    "plt.plot(time,l2norm)\n",
    "plt.plot(l2_saved[:,0], l2_saved[:,1], '+')\n",
    "plt.show()"
   ]
  }
 ],
 "metadata": {
  "kernelspec": {
   "display_name": "base",
   "language": "python",
   "name": "python3"
  },
  "language_info": {
   "codemirror_mode": {
    "name": "ipython",
    "version": 3
   },
   "file_extension": ".py",
   "mimetype": "text/x-python",
   "name": "python",
   "nbconvert_exporter": "python",
   "pygments_lexer": "ipython3",
   "version": "3.12.7"
  }
 },
 "nbformat": 4,
 "nbformat_minor": 4
}
